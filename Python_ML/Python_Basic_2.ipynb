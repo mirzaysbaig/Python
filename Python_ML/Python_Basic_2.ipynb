{
 "cells": [
  {
   "cell_type": "code",
   "execution_count": 1,
   "id": "4ba87b76",
   "metadata": {},
   "outputs": [
    {
     "name": "stdout",
     "output_type": "stream",
     "text": [
      "459 0.098 44.982\n",
      "459,0.098,44.982\n",
      "459 :-) 0.098 :-) 44.982\n"
     ]
    }
   ],
   "source": [
    "#Formatting\n",
    "#The Old Way or the non-existing printf and sprint\n",
    "#The Pythonic Way: The string method \"format\"\n",
    "q = 459\n",
    "p = 0.098\n",
    "print(q, p, p * q)\n",
    "print(q, p, p * q, sep=\",\")\n",
    "print(q, p, p * q, sep=\" :-) \")"
   ]
  },
  {
   "cell_type": "code",
   "execution_count": 2,
   "id": "71896985",
   "metadata": {},
   "outputs": [
    {
     "name": "stdout",
     "output_type": "stream",
     "text": [
      "Art:   453, Price per unit:    59.06\n"
     ]
    }
   ],
   "source": [
    "#Overloaded % operator for string formatting\n",
    "print(\"Art: %5d, Price per unit: %8.2f\" % (453, 59.058))"
   ]
  },
  {
   "cell_type": "code",
   "execution_count": 3,
   "id": "02c05fae",
   "metadata": {},
   "outputs": [
    {
     "name": "stdout",
     "output_type": "stream",
     "text": [
      " 3.561e+02\n",
      " 3.561E+02\n",
      "        31\n",
      "       031\n",
      "     00031\n",
      "   2f\n",
      " 002f\n",
      " 002F\n",
      "Only one percentage sign: % \n"
     ]
    }
   ],
   "source": [
    "# Conversion: Meaning\n",
    "# d: Signed integer decimal.\n",
    "# i: Signed integer decimal.\n",
    "# o: Unsigned octal.\n",
    "# C: Obsolete and equivalent to 'd', i.e. signed integer decimal.\n",
    "# x: Unsigned hexadecimal (lowercase).\n",
    "# X: Unsigned hexadecimal (uppercase).\n",
    "# e: Floating point exponential format (lowercase).\n",
    "# E: Floating point exponential format (uppercase).\n",
    "# f: Floating point decimal format.\n",
    "# F: Floating point decimal format.\n",
    "# g: Same as \"e\" if exponent is greater than -4 or less than precision, \"f\" otherwise.\n",
    "# G: Same as \"E\" if exponent is greater than -4 or less than precision, \"F\" otherwise.\n",
    "# #: Single character (accepts integer or single character string).\n",
    "# r: String (converts any python object using repr()).\n",
    "# s: String (converts any python object using str()).\n",
    "# %: No argument is converted, results in a \"%\" character in the result. \n",
    "\n",
    "print(\"%10.3e\"% (356.08977))\n",
    "print(\"%10.3E\"% (356.08977))\n",
    "print(\"%10o\"% (25))\n",
    "print(\"%10.3o\"% (25))\n",
    "print(\"%10.5o\"% (25))\n",
    "print(\"%5x\"% (47))\n",
    "print(\"%5.4x\"% (47))\n",
    "print(\"%5.4X\"% (47))\n",
    "print(\"Only one percentage sign: %% \" % ())"
   ]
  },
  {
   "cell_type": "code",
   "execution_count": 4,
   "id": "05ab1b1f",
   "metadata": {},
   "outputs": [
    {
     "name": "stdout",
     "output_type": "stream",
     "text": [
      " 0X2F\n",
      "   2F\n",
      "0X002F\n",
      " 0o31\n",
      "+42\n",
      " 42\n",
      "+42\n",
      " 42\n",
      "42\n"
     ]
    }
   ],
   "source": [
    "# Flags\n",
    "# The general syntax for a format placeholder is\n",
    "# %[flags][width][.precision]type\n",
    "\n",
    "# Flag: Maening\n",
    "# #: Used with o, x or X specifiers the value is preceded with 0o, 0x or 0X respectively.\n",
    "# 0: The conversion result will be zero padded for numeric values.\n",
    "# -: The converted value is left adjusted\n",
    "# +: A sign character (\"+\" or \"-\") will precede the conversion (overrides a \"space\" flag). \n",
    "# Note: If no sign (minus sign e.g.) is going to be written, a blank space is inserted before the value.\n",
    "print(\"%#5X\"% (47))\n",
    "print(\"%5X\"% (47))\n",
    "print(\"%#5.4X\"% (47))\n",
    "print(\"%#5o\"% (25))\n",
    "print(\"%+d\"% (42))\n",
    "print(\"% d\"% (42))\n",
    "print(\"%+2d\"% (42))\n",
    "print(\"% 2d\"% (42))\n",
    "print(\"%2d\"% (42))"
   ]
  },
  {
   "cell_type": "code",
   "execution_count": 5,
   "id": "5910decf",
   "metadata": {},
   "outputs": [
    {
     "name": "stdout",
     "output_type": "stream",
     "text": [
      "Price: $   356.09\n"
     ]
    }
   ],
   "source": [
    "# It is not the print() function that does the formatting, but the % operator itself\n",
    "s = \"Price: $ %8.2f\"% (356.08977)\n",
    "print(s)"
   ]
  },
  {
   "cell_type": "code",
   "execution_count": 7,
   "id": "fcb64dd1",
   "metadata": {},
   "outputs": [
    {
     "name": "stdout",
     "output_type": "stream",
     "text": [
      "First argument: 47, second one: 11\n",
      "First argument: 47, second one: 11\n"
     ]
    }
   ],
   "source": [
    "# The string method \"format\"\n",
    "# Syntax: template.format(p0, p1, ..., k0=v0, k1=v1, ...)\n",
    "# template : a string which contains one or more fields to be replaced (surrounded by curly braces {}). \n",
    "# Anything else, which is not contained in curly braces will be literally printed, i.e., without any changes. \n",
    "# If a brace character has to be printed, it has to be escaped by doubling it: {{ and }}. \n",
    "# If the positional parameters are used in the order in which they are written, the positional argument specifiers inside of the braces can be omitted, so '{} {} {}' corresponds to '{0} {1} {2}'. \n",
    "print(\"First argument: {0}, second one: {1}\".format(47,11))\n",
    "print(\"First argument: {}, second one: {}\".format(47,11))\n",
    "\n",
    "# But they are needed, if you want to access them in different orders: '{2} {1} {0}'. "
   ]
  },
  {
   "cell_type": "code",
   "execution_count": 8,
   "id": "2d71937e",
   "metadata": {},
   "outputs": [
    {
     "name": "stdout",
     "output_type": "stream",
     "text": [
      "Second argument: 11, first one: 47\n",
      "Second argument:  11, first one:   47.42\n",
      "First argument: 47, second one: 11\n"
     ]
    }
   ],
   "source": [
    "print(\"Second argument: {1}, first one: {0}\".format(47,11)) \n",
    "print(\"Second argument: {1:3d}, first one: {0:7.2f}\".format(47.42,11))\n",
    "print(\"First argument: {}, second one: {}\".format(47,11)) "
   ]
  },
  {
   "cell_type": "code",
   "execution_count": 9,
   "id": "4d5789ac",
   "metadata": {},
   "outputs": [
    {
     "name": "stdout",
     "output_type": "stream",
     "text": [
      "Spam & Eggs:           6.99\n",
      "        Spam & Eggs:   6.99\n"
     ]
    }
   ],
   "source": [
    "# Left and Right Justification\n",
    "# Option : Meaning\n",
    "# '<' : The field will be left-aligned within the available space. This is usually the default for strings.\n",
    "# '>' : The field will be right-aligned within the available space. This is the default for numbers.\n",
    "print(\"{0:<20s} {1:6.2f}\".format('Spam & Eggs:', 6.99))\n",
    "print(\"{0:>20s} {1:6.2f}\".format('Spam & Eggs:', 6.99))"
   ]
  },
  {
   "cell_type": "code",
   "execution_count": 10,
   "id": "32a8080f",
   "metadata": {},
   "outputs": [
    {
     "name": "stdout",
     "output_type": "stream",
     "text": [
      "The value is 000378\n",
      "The value is -00378\n"
     ]
    }
   ],
   "source": [
    "# '0' : If the width field is preceded by a zero ('0') character, sign-aware zero-padding for numeric types will be enabled.\n",
    "x = 378\n",
    "print(\"The value is {:06d}\".format(x))\n",
    "x = -378\n",
    "print(\"The value is {:06d}\".format(x))"
   ]
  },
  {
   "cell_type": "code",
   "execution_count": 13,
   "id": "a37253d1",
   "metadata": {},
   "outputs": [
    {
     "name": "stdout",
     "output_type": "stream",
     "text": [
      "The value is 78,962,324,245\n",
      "The value is 5,897,653,423.897\n"
     ]
    }
   ],
   "source": [
    "# ',' : This option signals the use of a comma for a thousands separator.\n",
    "x = 78962324245\n",
    "print(\"The value is {:,}\".format(x))\n",
    "x = 5897653423.89676\n",
    "print(\"The value is {0:12,.3f}\".format(x))"
   ]
  },
  {
   "cell_type": "code",
   "execution_count": 14,
   "id": "98b311b9",
   "metadata": {},
   "outputs": [
    {
     "name": "stdout",
     "output_type": "stream",
     "text": [
      "The capital of Ontario is Toronto\n",
      "The capital of Ontario is Toronto\n",
      "The capital of Ontario is Toronto\n"
     ]
    }
   ],
   "source": [
    "# Using dictionaries in “format”\n",
    "print(\"The capital of {0:s} is {1:s}\".format(\"Ontario\",\"Toronto\"))\n",
    "print(\"The capital of {province} is {capital}\".format(province=\"Ontario\",capital=\"Toronto\"))\n",
    "data = dict(province=\"Ontario\",capital=\"Toronto\")\n",
    "print(\"The capital of {province} is {capital}\".format(**data))\n",
    "#double ** is used to unpackm the dictionary and pass its key value pairs as arguments"
   ]
  },
  {
   "cell_type": "code",
   "execution_count": 15,
   "id": "9aa4fb58",
   "metadata": {},
   "outputs": [
    {
     "name": "stdout",
     "output_type": "stream",
     "text": [
      "Countries and their capitals:\n",
      "United States: Washington\n",
      "US: Washington\n",
      "Canada: Ottawa\n",
      "Germany: Berlin\n",
      "France: Paris\n",
      "England: London\n",
      "UK: London\n",
      "Switzerland: Bern\n",
      "Austria: Vienna\n",
      "Netherlands: Amsterdam\n"
     ]
    }
   ],
   "source": [
    "capital_country = {\"United States\" : \"Washington\", \n",
    "                   \"US\" : \"Washington\", \n",
    "                   \"Canada\" : \"Ottawa\",\n",
    "                   \"Germany\": \"Berlin\",\n",
    "                   \"France\" : \"Paris\",\n",
    "                   \"England\" : \"London\",\n",
    "                   \"UK\" : \"London\",\n",
    "                   \"Switzerland\" : \"Bern\",\n",
    "                   \"Austria\" : \"Vienna\",\n",
    "                   \"Netherlands\" : \"Amsterdam\"}\n",
    "print(\"Countries and their capitals:\")\n",
    "for c in capital_country:\n",
    "    print(\"{country}: {capital}\".format(country=c, capital=capital_country[c]))"
   ]
  },
  {
   "cell_type": "code",
   "execution_count": 16,
   "id": "eceb3d6d",
   "metadata": {},
   "outputs": [],
   "source": [
    "# Other string methods for Formatting"
   ]
  },
  {
   "cell_type": "code",
   "execution_count": 18,
   "id": "12ae08e0",
   "metadata": {},
   "outputs": [
    {
     "name": "stdout",
     "output_type": "stream",
     "text": [
      "       Python       \n",
      "*******Python*******\n"
     ]
    }
   ],
   "source": [
    "# center(...)\n",
    "# S.center(width[, fillchar]) -> str\n",
    "#Return S centred in a string of length width. Padding is done using the specified fill character. \n",
    "#The default value is a space. \n",
    "s = \"Python\"\n",
    "print(s.center(20))\n",
    "print(s.center(20,\"*\"))"
   ]
  },
  {
   "cell_type": "code",
   "execution_count": 19,
   "id": "98b6f1ed",
   "metadata": {},
   "outputs": [
    {
     "name": "stdout",
     "output_type": "stream",
     "text": [
      "Training    \n",
      "Training****\n"
     ]
    }
   ],
   "source": [
    "# ljust(...)\n",
    "# S.ljust(width[, fillchar]) -> str \n",
    "# Return S left-justified in a string of length \"width\". Padding is done using the specified fill character. \n",
    "# If none is given, a space will be used as default. \n",
    "s = \"Training\"\n",
    "print(s.ljust(12))\n",
    "print(s.ljust(12,\"*\"))"
   ]
  },
  {
   "cell_type": "code",
   "execution_count": 20,
   "id": "aa80a5b8",
   "metadata": {},
   "outputs": [
    {
     "name": "stdout",
     "output_type": "stream",
     "text": [
      "    Programming\n",
      "****Programming\n"
     ]
    }
   ],
   "source": [
    "# rjust(...)\n",
    "# S.rjust(width[, fillchar]) -> str\n",
    "# Return S right-justified in a string of length width. Padding is done using the specified fill character. \n",
    "# The default value is again a space.\n",
    "s = \"Programming\"\n",
    "print(s.rjust(15))\n",
    "print(s.rjust(15, \"*\"))"
   ]
  },
  {
   "cell_type": "code",
   "execution_count": 21,
   "id": "965c3701",
   "metadata": {},
   "outputs": [
    {
     "name": "stdout",
     "output_type": "stream",
     "text": [
      "000043447879\n",
      "000043447879\n"
     ]
    }
   ],
   "source": [
    "# zfill(...)\n",
    "# S.zfill(width) -> str\n",
    "# Pad a string S with zeros on the left, to fill a field of the specified width. \n",
    "# The string S is never truncated. This method can be easily emulated with rjust. \n",
    "account_number = \"43447879\"\n",
    "print(account_number.zfill(12))\n",
    "print(account_number.rjust(12,\"0\"))"
   ]
  },
  {
   "cell_type": "code",
   "execution_count": null,
   "id": "42eb98f9",
   "metadata": {},
   "outputs": [],
   "source": []
  },
  {
   "cell_type": "code",
   "execution_count": 23,
   "id": "df84fe15",
   "metadata": {},
   "outputs": [
    {
     "name": "stdout",
     "output_type": "stream",
     "text": [
      "2.8\n",
      "2.625\n",
      "13/21\n",
      "0.5625\n"
     ]
    }
   ],
   "source": [
    "# Statistics Module : import statistics\n",
    "# Averages and measures of central location\n",
    "\n",
    "# Method : Description\n",
    "# mean() : Arithmetic mean (“average”) of data.\n",
    "# harmonic_mean() : Harmonic mean of data.\n",
    "# median() : Median (middle value) of data.\n",
    "# median_low() : Low median of data.\n",
    "# median_high() : High median of data.\n",
    "# median_grouped() : Median, or 50th percentile, of grouped data.\n",
    "# mode() : Mode (most common value) of discrete data.\n",
    "\n",
    "import statistics\n",
    "from statistics import mean\n",
    "print(mean([1, 2, 3, 4, 4]))\n",
    "print(mean([-1.0, 2.5, 3.25, 5.75]))\n",
    "\n",
    "from fractions import Fraction as F\n",
    "print(mean([F(3, 7), F(1, 21), F(5, 3), F(1, 3)]))\n",
    "from decimal import Decimal as D\n",
    "print(mean([D(\"0.5\"), D(\"0.75\"), D(\"0.625\"), D(\"0.375\")]))"
   ]
  },
  {
   "cell_type": "code",
   "execution_count": 24,
   "id": "fc726c8e",
   "metadata": {},
   "outputs": [
    {
     "name": "stdout",
     "output_type": "stream",
     "text": [
      "3\n",
      "4.0\n"
     ]
    }
   ],
   "source": [
    "import statistics\n",
    "print(statistics.median([1, 3, 5]))\n",
    "print( statistics.median([1, 3, 5, 7]))"
   ]
  },
  {
   "cell_type": "code",
   "execution_count": 25,
   "id": "74adbee7",
   "metadata": {},
   "outputs": [
    {
     "name": "stdout",
     "output_type": "stream",
     "text": [
      "3\n"
     ]
    }
   ],
   "source": [
    "# statistics.median_low(data)\n",
    "# Return the low median of numeric data. \n",
    "# The low median is always a member of the data set. When the number of data points is odd, the middle value is returned. When it is even, the smaller of the two middle values is returned.\n",
    "\n",
    "# statistics.median_low(data)\n",
    "# Return the low median of numeric data. \n",
    "# The low median is always a member of the data set. When the number of data points is odd, the middle value is returned. When it is even, the smaller of the two middle values is returned.\n",
    "\n",
    "# statistics.median_grouped(data, interval=1)\n",
    "# Return the median of grouped continuous data, calculated as the 50th percentile, using interpolation.\n",
    "\n",
    "# statistics.mode(data)\n",
    "# Return the most common data point from discrete or nominal data. The mode (when it exists) is the most typical value, and is a robust measure of central location\n",
    "\n",
    "import statistics\n",
    "print(statistics.mode([1, 1, 2, 3, 3, 3, 3, 4]))"
   ]
  },
  {
   "cell_type": "code",
   "execution_count": null,
   "id": "ef64996a",
   "metadata": {},
   "outputs": [],
   "source": [
    "# Measures of spread\n",
    "# Method : Description\n",
    "# pstdev() : Population standard deviation of data.\n",
    "# pvariance() : Population variance of data.\n",
    "# stdev() : Sample standard deviation of data.\n",
    "# variance() : Sample variance of data.\n",
    "\n",
    "from statistics import pstdev\n",
    "print(pstdev([1.5, 2.5, 2.5, 2.75, 3.25, 4.75]))\n",
    "from statistics import pvariance\n",
    "print(pvariance([1.5, 2.5, 2.5, 2.75, 3.25, 4.75]))"
   ]
  },
  {
   "cell_type": "code",
   "execution_count": 28,
   "id": "9c640d2a",
   "metadata": {},
   "outputs": [
    {
     "name": "stdout",
     "output_type": "stream",
     "text": [
      "24.815\n",
      "13/72\n"
     ]
    }
   ],
   "source": [
    "from statistics import pvariance\n",
    "from decimal import Decimal as D\n",
    "from fractions import Fraction as F\n",
    "print( pvariance([D(\"27.5\"), D(\"30.25\"), D(\"30.25\"), D(\"34.5\"), D(\"41.75\")]))\n",
    "print( pvariance([F(1, 4), F(5, 4), F(1, 2)]))"
   ]
  },
  {
   "cell_type": "code",
   "execution_count": 45,
   "id": "cbc22b59",
   "metadata": {},
   "outputs": [
    {
     "name": "stdout",
     "output_type": "stream",
     "text": [
      "Everything worked\n"
     ]
    }
   ],
   "source": [
    "# Exceptions\n",
    "x=3\n",
    "y=4\n",
    "try:\n",
    "    x/y\n",
    "except ZeroDivisionError:\n",
    "    print(\"Divisor must not be 0\")\n",
    "except TypeError:\n",
    "    print(\"They must be numbers\")\n",
    "except:\n",
    "    print(\"Something unspecified went wrong\")\n",
    "else:\n",
    "    print(\"Everything worked\")\n"
   ]
  },
  {
   "cell_type": "code",
   "execution_count": 46,
   "id": "58dc8d54",
   "metadata": {},
   "outputs": [
    {
     "name": "stdout",
     "output_type": "stream",
     "text": [
      "Second argument to a division or modulo operation was zero.\n",
      "['Traceback (most recent call last):\\n', '  File \"C:\\\\Users\\\\CCPC001\\\\AppData\\\\Local\\\\Temp\\\\ipykernel_19212\\\\3400254769.py\", line 4, in <module>\\n    a = 2/0\\n        ~^~\\n', 'ZeroDivisionError: division by zero\\n']\n"
     ]
    }
   ],
   "source": [
    "# A Catch All Exception Script\n",
    "import traceback\n",
    "try:\n",
    "    a = 2/0\n",
    "except Exception as e:\n",
    "    print(e.__doc__)\n",
    "    print(traceback.format_exception(e))"
   ]
  },
  {
   "cell_type": "code",
   "execution_count": 47,
   "id": "2640c966",
   "metadata": {},
   "outputs": [],
   "source": [
    "# Classes \n",
    "# class myclass(superclass):\n",
    "#    def __init__(self,args):\n",
    "#    def functionname(self,args):\n",
    "# __init__(self,args) – class constructor\n",
    "# __del__(self) – class destructor (rarely used)\n",
    "# classname.functionname() – to access a class function\n"
   ]
  },
  {
   "cell_type": "code",
   "execution_count": 48,
   "id": "6317d625",
   "metadata": {},
   "outputs": [],
   "source": [
    "class Employee:\n",
    "   'Common base class for all employees'\n",
    "   empCount = 0\n",
    "\n",
    "   def __init__(self, name, salary):\n",
    "      self.name = name\n",
    "      self.salary = salary\n",
    "      Employee.empCount += 1\n",
    "   \n",
    "   def displayCount(self):\n",
    "     print(\"Total Employee %d\" % Employee.empCount)\n",
    "\n",
    "   def displayEmployee(self):\n",
    "      print(\"Name : \", self.name,  \", Salary: \", self.salary)\n",
    "\n",
    "   def __repr__(self):#defines string representation of class \n",
    "      return \"<name: %s, salary: %s>\" % (self.name, self.salary)"
   ]
  },
  {
   "cell_type": "code",
   "execution_count": 49,
   "id": "3b979fef",
   "metadata": {},
   "outputs": [
    {
     "name": "stdout",
     "output_type": "stream",
     "text": [
      "Name :  Zara , Salary:  2000\n",
      "<name: Zara, salary: 2000>\n",
      "Name :  Manni , Salary:  5000\n",
      "<name: Manni, salary: 5000>\n",
      "Total Employee 2\n"
     ]
    }
   ],
   "source": [
    "emp1 = Employee(\"Zara\", 2000)\n",
    "emp2 = Employee(\"Manni\", 5000)\n",
    "\n",
    "\n",
    "emp1.displayEmployee()\n",
    "print(emp1)\n",
    "emp2.displayEmployee()\n",
    "print(emp2)\n",
    "print (\"Total Employee %d\" % Employee.empCount)"
   ]
  },
  {
   "cell_type": "code",
   "execution_count": 51,
   "id": "b78b99d4",
   "metadata": {},
   "outputs": [
    {
     "name": "stdout",
     "output_type": "stream",
     "text": [
      "[<name: Zara, salary: 2000>, <name: Manni, salary: 5000>]\n",
      "[<name: Manni, salary: 5000>, <name: Zara, salary: 2000>]\n"
     ]
    }
   ],
   "source": [
    "# Sorting Class Objects\n",
    "people=[emp1,emp2]\n",
    "def bySalary_key(person):\n",
    "  return person.name\n",
    "\n",
    "def byPerson_key(person):\n",
    "  return str(person)\n",
    "\n",
    "print(sorted(people, key = bySalary_key,reverse = True) )\n",
    "\n",
    "print(sorted(people, key = byPerson_key))"
   ]
  },
  {
   "cell_type": "code",
   "execution_count": 52,
   "id": "6add5ad3",
   "metadata": {},
   "outputs": [],
   "source": [
    "#NUMPY\n",
    "#NumPy is the fundamental package for scientific computing with Python\n",
    "#Among other things, it provides a powerful n-dimensional array\n",
    "#import numpy \n",
    "#import numpy as np\n",
    "#np acts as a short name for numpy"
   ]
  },
  {
   "cell_type": "code",
   "execution_count": 55,
   "id": "67c76276",
   "metadata": {},
   "outputs": [
    {
     "name": "stdout",
     "output_type": "stream",
     "text": [
      "Collecting numpy\n",
      "  Obtaining dependency information for numpy from https://files.pythonhosted.org/packages/72/b2/02770e60c4e2f7e158d923ab0dea4e9f146a2dbf267fec6d8dc61d475689/numpy-1.25.2-cp311-cp311-win_amd64.whl.metadata\n",
      "  Downloading numpy-1.25.2-cp311-cp311-win_amd64.whl.metadata (5.7 kB)\n",
      "Downloading numpy-1.25.2-cp311-cp311-win_amd64.whl (15.5 MB)\n",
      "   ---------------------------------------- 0.0/15.5 MB ? eta -:--:--\n",
      "   ---------------------------------------- 0.0/15.5 MB ? eta -:--:--\n",
      "   ---------------------------------------- 0.0/15.5 MB ? eta -:--:--\n",
      "   ---------------------------------------- 0.0/15.5 MB ? eta -:--:--\n",
      "   ---------------------------------------- 0.0/15.5 MB 279.3 kB/s eta 0:00:56\n",
      "   ---------------------------------------- 0.1/15.5 MB 459.5 kB/s eta 0:00:34\n",
      "    --------------------------------------- 0.2/15.5 MB 908.0 kB/s eta 0:00:17\n",
      "   - -------------------------------------- 0.4/15.5 MB 1.6 MB/s eta 0:00:10\n",
      "   - -------------------------------------- 0.6/15.5 MB 2.1 MB/s eta 0:00:07\n",
      "   -- ------------------------------------- 1.1/15.5 MB 3.1 MB/s eta 0:00:05\n",
      "   ---- ----------------------------------- 1.9/15.5 MB 4.8 MB/s eta 0:00:03\n",
      "   -------- ------------------------------- 3.5/15.5 MB 7.9 MB/s eta 0:00:02\n",
      "   --------------- ------------------------ 5.9/15.5 MB 12.2 MB/s eta 0:00:01\n",
      "   --------------- ------------------------ 5.9/15.5 MB 12.2 MB/s eta 0:00:01\n",
      "   --------------- ------------------------ 5.9/15.5 MB 11.1 MB/s eta 0:00:01\n",
      "   --------------------- ------------------ 8.3/15.5 MB 13.3 MB/s eta 0:00:01\n",
      "   ------------------------ --------------- 9.6/15.5 MB 14.9 MB/s eta 0:00:01\n",
      "   ---------------------------- ----------- 11.0/15.5 MB 26.2 MB/s eta 0:00:01\n",
      "   ---------------------------------- ----- 13.3/15.5 MB 32.8 MB/s eta 0:00:01\n",
      "   -------------------------------------- - 15.0/15.5 MB 29.7 MB/s eta 0:00:01\n",
      "   ---------------------------------------  15.5/15.5 MB 27.3 MB/s eta 0:00:01\n",
      "   ---------------------------------------  15.5/15.5 MB 27.3 MB/s eta 0:00:01\n",
      "   ---------------------------------------  15.5/15.5 MB 27.3 MB/s eta 0:00:01\n",
      "   ---------------------------------------  15.5/15.5 MB 27.3 MB/s eta 0:00:01\n",
      "   ---------------------------------------- 15.5/15.5 MB 18.7 MB/s eta 0:00:00\n",
      "Installing collected packages: numpy\n",
      "Successfully installed numpy-1.25.2\n",
      "Note: you may need to restart the kernel to use updated packages.\n"
     ]
    }
   ],
   "source": [
    "pip install numpy"
   ]
  },
  {
   "cell_type": "code",
   "execution_count": 56,
   "id": "42774854",
   "metadata": {},
   "outputs": [
    {
     "name": "stdout",
     "output_type": "stream",
     "text": [
      "[4 3 2]\n"
     ]
    }
   ],
   "source": [
    "import numpy as np\n",
    "myarray = np.array([4,3,2])\n",
    "mybigarray = np.array([[3, 2, 4], [3, 3, 2], [4, 5, 2]])\n",
    "print(myarray)"
   ]
  },
  {
   "cell_type": "code",
   "execution_count": 57,
   "id": "6a569200",
   "metadata": {},
   "outputs": [
    {
     "name": "stdout",
     "output_type": "stream",
     "text": [
      "[[3 2 4]\n",
      " [3 3 2]\n",
      " [4 5 2]]\n"
     ]
    }
   ],
   "source": [
    "print(mybigarray)"
   ]
  },
  {
   "cell_type": "code",
   "execution_count": 58,
   "id": "40e603f2",
   "metadata": {},
   "outputs": [
    {
     "name": "stdout",
     "output_type": "stream",
     "text": [
      "[1.+0.j 2.+0.j 3.+0.j]\n"
     ]
    }
   ],
   "source": [
    "import numpy as np\n",
    "a = np.array([1, 2, 3], dtype=complex)\n",
    "print(a)"
   ]
  },
  {
   "cell_type": "code",
   "execution_count": 60,
   "id": "47dd61e9",
   "metadata": {},
   "outputs": [
    {
     "name": "stdout",
     "output_type": "stream",
     "text": [
      "int32\n",
      "int32\n"
     ]
    }
   ],
   "source": [
    "import numpy as np\n",
    "dt=np.dtype(np.int32)\n",
    "print(dt)\n",
    "#int8, int16, int32, int64 can be replaced by equivalent string 'i1','i2','i4',i‘8’ etc.\n",
    "dt = np.dtype('i4')\n",
    "print(dt)"
   ]
  },
  {
   "cell_type": "code",
   "execution_count": 62,
   "id": "5e11db7b",
   "metadata": {},
   "outputs": [
    {
     "name": "stdout",
     "output_type": "stream",
     "text": [
      "[('age', 'i1')]\n"
     ]
    }
   ],
   "source": [
    "import numpy as np\n",
    "dt = np.dtype([('age',np.int8)])\n",
    "print(dt)"
   ]
  },
  {
   "cell_type": "code",
   "execution_count": 64,
   "id": "05a529ad",
   "metadata": {},
   "outputs": [
    {
     "name": "stdout",
     "output_type": "stream",
     "text": [
      "[10 20 30]\n"
     ]
    }
   ],
   "source": [
    "import numpy as np\n",
    "dt = np.dtype([('age',np.int8)])\n",
    "a = np.array([(10,),(20,),(30,)], dtype=dt)\n",
    "print(a['age'])"
   ]
  },
  {
   "cell_type": "code",
   "execution_count": 65,
   "id": "fd2dbc79",
   "metadata": {},
   "outputs": [
    {
     "name": "stdout",
     "output_type": "stream",
     "text": [
      "[0 1 2 3 4]\n",
      "[3 5]\n"
     ]
    }
   ],
   "source": [
    "#arange(start,stop,step)\n",
    "print(np.arange(5))\n",
    "print(np.arange(3,7,2))"
   ]
  },
  {
   "cell_type": "code",
   "execution_count": 66,
   "id": "a9359a31",
   "metadata": {},
   "outputs": [
    {
     "name": "stdout",
     "output_type": "stream",
     "text": [
      "[1. 1. 1.]\n",
      "[[1. 1. 1. 1.]\n",
      " [1. 1. 1. 1.]\n",
      " [1. 1. 1. 1.]]\n"
     ]
    }
   ],
   "source": [
    "print(np.ones(3))\n",
    "print(np.ones((3,4)))"
   ]
  },
  {
   "cell_type": "code",
   "execution_count": 67,
   "id": "b61ddde2",
   "metadata": {},
   "outputs": [
    {
     "name": "stdout",
     "output_type": "stream",
     "text": [
      "[3. 5. 7.]\n"
     ]
    }
   ],
   "source": [
    "print(np.linspace(3,7,3))\n",
    "#returns evenly spaced numbers in the given range. #np.linspace(start,stop,npoints)"
   ]
  },
  {
   "cell_type": "code",
   "execution_count": 69,
   "id": "22fd3655",
   "metadata": {},
   "outputs": [
    {
     "name": "stdout",
     "output_type": "stream",
     "text": [
      "[1 2 3 0 0 4 5 6]\n"
     ]
    }
   ],
   "source": [
    "print(np.r_[np.array([1,2,3]), 0, 0, np.array([4,5,6])])#performs row concatenation"
   ]
  },
  {
   "cell_type": "code",
   "execution_count": 70,
   "id": "7efdbc1c",
   "metadata": {},
   "outputs": [
    {
     "name": "stdout",
     "output_type": "stream",
     "text": [
      "[1 2 3 0 4]\n"
     ]
    }
   ],
   "source": [
    "print(np.r_[1:4,0,4])"
   ]
  },
  {
   "cell_type": "code",
   "execution_count": 71,
   "id": "11ac10fa",
   "metadata": {},
   "outputs": [
    {
     "name": "stdout",
     "output_type": "stream",
     "text": [
      "[[1 4]\n",
      " [2 5]\n",
      " [3 6]]\n"
     ]
    }
   ],
   "source": [
    "print(np.c_[np.array([1,2,3]), np.array([4,5,6])])"
   ]
  },
  {
   "cell_type": "code",
   "execution_count": 72,
   "id": "f1580f74",
   "metadata": {},
   "outputs": [
    {
     "name": "stdout",
     "output_type": "stream",
     "text": [
      "[[1 2 3 0 0 4 5 6]]\n"
     ]
    }
   ],
   "source": [
    "print(np.c_[np.array([[1,2,3]]), 0, 0, np.array([[4,5,6]])])"
   ]
  },
  {
   "cell_type": "code",
   "execution_count": 73,
   "id": "4010021e",
   "metadata": {},
   "outputs": [
    {
     "name": "stdout",
     "output_type": "stream",
     "text": [
      "[[0 1]\n",
      " [2 3]\n",
      " [4 5]]\n",
      "2\n",
      "6\n",
      "(3, 2)\n",
      "[[0 1 2]\n",
      " [3 4 5]]\n",
      "[0 1 2 3 4 5]\n",
      "[[0 2 4]\n",
      " [1 3 5]]\n",
      "[[4 5]\n",
      " [2 3]\n",
      " [0 1]]\n"
     ]
    }
   ],
   "source": [
    "a= np.arange(6).reshape(3,2)\n",
    "print(a)\n",
    "print(np.ndim(a))\n",
    "print(np.size(a))\n",
    "print(np.shape(a))\n",
    "print(np.reshape(a,(2,3)))\n",
    "print(np.ravel(a))\n",
    "print(np.transpose(a))\n",
    "print(a[::-1])#reverses the elements in the first dimension"
   ]
  },
  {
   "cell_type": "code",
   "execution_count": 75,
   "id": "c19783e1",
   "metadata": {},
   "outputs": [
    {
     "name": "stdout",
     "output_type": "stream",
     "text": [
      "[[0 1]\n",
      " [2 3]\n",
      " [4 5]]\n",
      "0\n",
      "5\n",
      "15\n",
      "[6 9]\n",
      "[1 5 9]\n",
      "[[0 1]\n",
      " [2 3]\n",
      " [4 5]]\n"
     ]
    }
   ],
   "source": [
    "a= np.arange(6).reshape(3,2)\n",
    "print(a)\n",
    "print(np.min(a))\n",
    "print(np.max(a))\n",
    "print(np.sum(a))\n",
    "print(np.sum(a, axis=0))#sum of each column\n",
    "print(np.sum(a, axis=1))#sum of each row\n",
    "b = np.copy(a)#makes a deep copy\n",
    "print(b)"
   ]
  },
  {
   "cell_type": "code",
   "execution_count": 76,
   "id": "7a805ff6",
   "metadata": {},
   "outputs": [
    {
     "name": "stdout",
     "output_type": "stream",
     "text": [
      "[[0 1]\n",
      " [2 3]\n",
      " [4 5]]\n",
      "[[3 4]\n",
      " [5 6]\n",
      " [7 8]]\n",
      "[[ 3  5]\n",
      " [ 7  9]\n",
      " [11 13]]\n",
      "[[ 0  4]\n",
      " [10 18]\n",
      " [28 40]]\n"
     ]
    }
   ],
   "source": [
    "#Matrix Operation\n",
    "a= np.arange(6).reshape(3,2)\n",
    "print(a)\n",
    "b = np.arange(3,9).reshape(3,2)\n",
    "print(b)\n",
    "print(a+b)\n",
    "print(a*b)"
   ]
  },
  {
   "cell_type": "code",
   "execution_count": 77,
   "id": "39061380",
   "metadata": {},
   "outputs": [
    {
     "name": "stdout",
     "output_type": "stream",
     "text": [
      "[[0 1]\n",
      " [2 3]\n",
      " [4 5]]\n",
      "[[0 1 2]\n",
      " [3 4 5]]\n",
      "[[ 3  4  5]\n",
      " [ 9 14 19]\n",
      " [15 24 33]]\n",
      "[[ 0  1]\n",
      " [ 4  9]\n",
      " [16 25]]\n",
      "[[ 1  2]\n",
      " [ 4  8]\n",
      " [16 32]]\n"
     ]
    }
   ],
   "source": [
    "a= np.arange(6).reshape(3,2)\n",
    "print(a)\n",
    "c = np.arange(6).reshape(2,3)\n",
    "print(c)\n",
    "print(np.dot(a,c)) #Traditional matrix multiplication\n",
    "print(pow(a,2))#computes every element raised to power 2\n",
    "print(pow(2,a))#computes 2 raised to every element of matrix as power"
   ]
  },
  {
   "cell_type": "code",
   "execution_count": 79,
   "id": "c5572b2a",
   "metadata": {},
   "outputs": [
    {
     "name": "stdout",
     "output_type": "stream",
     "text": [
      "[5 6 7 8 9]\n",
      "(array([0, 1, 2], dtype=int64),)\n",
      "[5 6 7]\n"
     ]
    }
   ],
   "source": [
    "#np.where() command\n",
    "a = np.arange(5,10)\n",
    "print(a)\n",
    "print(np.where(a < 8))#returns indices of numbers<8\n",
    "print(a[np.where(a < 8)]) #returns values <8"
   ]
  },
  {
   "cell_type": "code",
   "execution_count": 81,
   "id": "c9b2851c",
   "metadata": {},
   "outputs": [
    {
     "name": "stdout",
     "output_type": "stream",
     "text": [
      "[[4 5 6]\n",
      " [7 8 9]]\n",
      "(array([0, 1, 1, 1], dtype=int64), array([2, 0, 1, 2], dtype=int64))\n",
      "[6 7 8 9]\n"
     ]
    }
   ],
   "source": [
    "a = np.arange(4,10).reshape(2,3)\n",
    "print(a)\n",
    "print(np.where(a > 5))#in case of 2D array, it returns an array of row indices and an array of col indices\n",
    "print(a[np.where(a > 5)])"
   ]
  },
  {
   "cell_type": "code",
   "execution_count": null,
   "id": "4c721bda",
   "metadata": {},
   "outputs": [],
   "source": [
    "#np.random.rand(matsize) produces uniformly distributed random numbers between 0 and 1 in an array of size matsize\n",
    "#np.random.randn(matsize) produces zero mean, unit variance Gaussian random numbers\n",
    "#np.random.normal(mean,stdev,matsize) produces Gaussian random numbers with specifed mean and standard deviation\n",
    "#np.random.uniform(low,high,matsize) produces uniform random numbers between low and high\n",
    "#np.random.randint(low,high,matsize) produces random integer values between low and high\n",
    "#np.linalg.inv(a) Compute the inverse of (square) array a\n",
    "#np.linalg.pinv(a) Compute the pseudo-inverse, which is defined even if a is not square\n",
    "#np.linalg.det(a) Compute the determinant of a\n",
    "#np.linalg.eig(a) Compute the eigenvalues and eigenvectors of a"
   ]
  }
 ],
 "metadata": {
  "kernelspec": {
   "display_name": "Python 3 (ipykernel)",
   "language": "python",
   "name": "python3"
  },
  "language_info": {
   "codemirror_mode": {
    "name": "ipython",
    "version": 3
   },
   "file_extension": ".py",
   "mimetype": "text/x-python",
   "name": "python",
   "nbconvert_exporter": "python",
   "pygments_lexer": "ipython3",
   "version": "3.11.4"
  }
 },
 "nbformat": 4,
 "nbformat_minor": 5
}
