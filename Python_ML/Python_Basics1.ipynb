{
 "cells": [
  {
   "cell_type": "code",
   "execution_count": 4,
   "id": "681de9a7",
   "metadata": {},
   "outputs": [
    {
     "name": "stdout",
     "output_type": "stream",
     "text": [
      "Hello, World!\n"
     ]
    }
   ],
   "source": [
    "#Hello World Program\n",
    "print(\"Hello, World!\")"
   ]
  },
  {
   "cell_type": "code",
   "execution_count": 2,
   "id": "a53e6430",
   "metadata": {},
   "outputs": [
    {
     "name": "stdout",
     "output_type": "stream",
     "text": [
      "100\n",
      "1000.0\n",
      "John\n"
     ]
    }
   ],
   "source": [
    "# declaration/creation of variables happen automatically\n",
    "counter = 100 # An integer assignment\n",
    "miles = 1000.0 # A floating point\n",
    "name = \"John\" # A string\n",
    "print(counter)\n",
    "print(miles)\n",
    "print(name)"
   ]
  },
  {
   "cell_type": "code",
   "execution_count": 3,
   "id": "7281e37f",
   "metadata": {},
   "outputs": [
    {
     "name": "stdout",
     "output_type": "stream",
     "text": [
      "word\n",
      "This is a sentence.\n",
      "This is a paragraph. It is\n",
      "made up of multiple lines and sentences.\n"
     ]
    }
   ],
   "source": [
    "#Strings\n",
    "word = 'word'\n",
    "sentence = \"This is a sentence.\"\n",
    "paragraph = \"\"\"This is a paragraph. It is\n",
    "made up of multiple lines and sentences.\"\"\"\n",
    "print(word)\n",
    "print(sentence)\n",
    "print(paragraph)"
   ]
  },
  {
   "cell_type": "code",
   "execution_count": 5,
   "id": "560e0e47",
   "metadata": {},
   "outputs": [
    {
     "name": "stdout",
     "output_type": "stream",
     "text": [
      "ad\n",
      "hello world\n"
     ]
    }
   ],
   "source": [
    "#String Concatenation\n",
    "print('a' + 'd')\n",
    "print(\"hello\"+\" world\")"
   ]
  },
  {
   "cell_type": "code",
   "execution_count": 6,
   "id": "7bcd16dc",
   "metadata": {},
   "outputs": [
    {
     "name": "stdout",
     "output_type": "stream",
     "text": [
      "[0, 3, 2, 'hi']\n"
     ]
    }
   ],
   "source": [
    "# List\n",
    "# A list contains items separated by commas and enclosed within square brackets ([]). \n",
    "# Similar to arrays in C. However, items belonging to a list can be of different data type.\n",
    "\n",
    "mylist = [0, 3, 2, 'hi']\n",
    "print(mylist)"
   ]
  },
  {
   "cell_type": "code",
   "execution_count": 8,
   "id": "9b090ec4",
   "metadata": {},
   "outputs": [
    {
     "name": "stdout",
     "output_type": "stream",
     "text": [
      "[3, 2, [5, 4, 3], [2, 3, 2]]\n",
      "3\n"
     ]
    }
   ],
   "source": [
    "#list within list\n",
    "newlist = [3, 2, [5, 4, 3], [2, 3, 2]]\n",
    "print(newlist)\n",
    "print(newlist[0])"
   ]
  },
  {
   "cell_type": "code",
   "execution_count": 10,
   "id": "a8a12ffa",
   "metadata": {},
   "outputs": [
    {
     "name": "stdout",
     "output_type": "stream",
     "text": [
      "[2, 3, 2]\n",
      "[5, 4, 3]\n",
      "3\n"
     ]
    }
   ],
   "source": [
    "#returns element from the last\n",
    "newlist = [3, 2, [5, 4, 3], [2, 3, 2]]\n",
    "print(newlist[-1])\n",
    "print(newlist[-2])\n",
    "print(newlist[3][1])"
   ]
  },
  {
   "cell_type": "code",
   "execution_count": 14,
   "id": "e4146d06",
   "metadata": {},
   "outputs": [
    {
     "name": "stdout",
     "output_type": "stream",
     "text": [
      "[[5, 4, 3], [2, 3, 2]]\n",
      "[3, [5, 4, 3]]\n"
     ]
    }
   ],
   "source": [
    "#Slice operator ‘:’\n",
    "newlist = [3, 2, [5, 4, 3], [2, 3, 2]]\n",
    "print(newlist[2:4])#inclusive of start index and exclusive of end index\n",
    "print(newlist[0:4:2])#behaves as [start:stop:step]"
   ]
  },
  {
   "cell_type": "code",
   "execution_count": 16,
   "id": "7dbb55ac",
   "metadata": {},
   "outputs": [
    {
     "name": "stdout",
     "output_type": "stream",
     "text": [
      "[[2, 3, 2], [5, 4, 3], 2, 3]\n",
      "[3, 2, [5, 4, 3]]\n",
      "[2, [5, 4, 3], [2, 3, 2]]\n"
     ]
    }
   ],
   "source": [
    "#reverses the elements of the list\n",
    "newlist = [3, 2, [5, 4, 3], [2, 3, 2]]\n",
    "print(newlist[::-1])"
   ]
  },
  {
   "cell_type": "code",
   "execution_count": 17,
   "id": "b742ba4b",
   "metadata": {},
   "outputs": [
    {
     "name": "stdout",
     "output_type": "stream",
     "text": [
      "[3, 2, [5, 4, 3]]\n",
      "[2, [5, 4, 3], [2, 3, 2]]\n"
     ]
    }
   ],
   "source": [
    "print(newlist[:3])\n",
    "print(newlist[1:])"
   ]
  },
  {
   "cell_type": "code",
   "execution_count": 2,
   "id": "0831cefc",
   "metadata": {},
   "outputs": [
    {
     "name": "stdout",
     "output_type": "stream",
     "text": [
      "[123, 'john', 123, 'john']\n",
      "['abcd', 786, 2.23, 'john', 70.2, 123, 'john']\n"
     ]
    }
   ],
   "source": [
    "list = [ 'abcd', 786 , 2.23, 'john', 70.2 ]\n",
    "tinylist = [123, 'john']\n",
    "print (tinylist * 2) # Prints list two times\n",
    "print (list + tinylist) # Prints concatenated lists"
   ]
  },
  {
   "cell_type": "code",
   "execution_count": 3,
   "id": "96c85dd1",
   "metadata": {},
   "outputs": [
    {
     "name": "stdout",
     "output_type": "stream",
     "text": [
      "True\n",
      "False\n"
     ]
    }
   ],
   "source": [
    "#Comparing Lists\n",
    "a =[3, 2, 4, 1]\n",
    "b= [3, 2, 4, 1]\n",
    "print(a==b)\n",
    "c = [3,2,4,1,0]\n",
    "print(a==c)"
   ]
  },
  {
   "cell_type": "code",
   "execution_count": 6,
   "id": "4ae463dc",
   "metadata": {},
   "outputs": [
    {
     "name": "stdout",
     "output_type": "stream",
     "text": [
      "('abcd', 786, 2.23, 'john', 70.2)\n",
      "abcd\n",
      "(786, 2.23)\n",
      "(2.23, 'john', 70.2)\n",
      "(123, 'john', 123, 'john')\n",
      "('abcd', 786, 2.23, 'john', 70.2, 123, 'john')\n"
     ]
    }
   ],
   "source": [
    "#Tuple\n",
    "#A tuple is an immutable list, meaning that it is read-only and doesn’t change. \n",
    "#Tuples are defined using round brackets\n",
    "tuple = ( 'abcd', 786 , 2.23, 'john', 70.2 )\n",
    "tinytuple = (123, 'john')\n",
    "print (tuple) # Prints complete tuple\n",
    "print (tuple[0]) # Prints first element of the tuple\n",
    "print (tuple[1:3]) # Prints elements starting from 2nd till 3rd\n",
    "print (tuple[2:]) # Prints elements starting from 3rd element\n",
    "print (tinytuple * 2) # Prints tuple two times\n",
    "print (tuple + tinytuple) # Prints concatenated tuple"
   ]
  },
  {
   "cell_type": "code",
   "execution_count": 9,
   "id": "2d02b8d8",
   "metadata": {},
   "outputs": [
    {
     "name": "stdout",
     "output_type": "stream",
     "text": [
      "['abcd', 786, 1000, 'john', 70.2]\n"
     ]
    }
   ],
   "source": [
    "tuple = ( 'abcd', 786 , 2.23, 'john', 70.2 )\n",
    "list = [ 'abcd', 786 , 2.23, 'john', 70.2 ]\n",
    "#tuple[2] = 1000 # Invalid syntax with tuple\n",
    "list[2] = 1000 # Valid syntax with list\n",
    "print(list)"
   ]
  },
  {
   "cell_type": "code",
   "execution_count": 10,
   "id": "41d8b1f7",
   "metadata": {},
   "outputs": [
    {
     "name": "stdout",
     "output_type": "stream",
     "text": [
      "31\n"
     ]
    }
   ],
   "source": [
    "#Dictionaries: Kind of hash-table type. Consist of key-value pairs. \n",
    "#Dictionaries are enclosed in curly braces. \n",
    "#You assign a key to each entry that you can use to access it.\n",
    "months = {'Jan': 31, 'Feb': 28, 'Mar': 31}\n",
    "print(months['Jan'])"
   ]
  },
  {
   "cell_type": "code",
   "execution_count": 12,
   "id": "1d4e22e2",
   "metadata": {},
   "outputs": [
    {
     "name": "stdout",
     "output_type": "stream",
     "text": [
      "This is one\n",
      "This is two\n",
      "{'name': 'john', 'code': 6734, 'dept': 'sales'}\n",
      "dict_keys(['name', 'code', 'dept'])\n",
      "dict_values(['john', 6734, 'sales'])\n"
     ]
    }
   ],
   "source": [
    "dict = {}\n",
    "dict['one'] = \"This is one\"\n",
    "dict[2] = \"This is two\"\n",
    "tinydict = {'name': 'john','code':6734, 'dept': 'sales'}\n",
    "print (dict['one']) # Prints value for 'one' key\n",
    "print (dict[2]) # Prints value for 2 key\n",
    "print (tinydict) # Prints complete dictionary\n",
    "print (tinydict.keys()) # Prints all the keys\n",
    "print (tinydict.values()) # Prints all the values"
   ]
  },
  {
   "cell_type": "code",
   "execution_count": 13,
   "id": "6e250674",
   "metadata": {},
   "outputs": [
    {
     "name": "stdout",
     "output_type": "stream",
     "text": [
      "2\n",
      "2.0\n",
      "(2+4j)\n",
      "993.3333333333333335\n"
     ]
    }
   ],
   "source": [
    "#Data Type Coneversion\n",
    "print(int(2.7))\n",
    "print(float(2))\n",
    "print(complex(2,4))\n",
    "print(str(44+55)+str(30/9))"
   ]
  },
  {
   "cell_type": "code",
   "execution_count": 14,
   "id": "7ece481f",
   "metadata": {},
   "outputs": [
    {
     "name": "stdout",
     "output_type": "stream",
     "text": [
      "Addition =  31\n",
      "Subtraction =  11\n",
      "Multiplication =  210\n",
      "Division =  2.1\n",
      "Reminder =  1\n",
      "a^b =  8\n",
      "Result =  2\n"
     ]
    }
   ],
   "source": [
    "#Airthmetic Operators\n",
    "a = 21; b = 10; c = 0\n",
    "c = a + b # Addition\n",
    "print (\"Addition = \", c)\n",
    "c = a - b #Subtraction\n",
    "print (\"Subtraction = \", c )\n",
    "c = a * b #Multiplication\n",
    "print (\"Multiplication = \", c)\n",
    "c = a / b #Division \n",
    "print (\"Division = \", c )\n",
    "c = a % b #Modulus\n",
    "print (\"Reminder = \", c)\n",
    "a = 2\n",
    "b = 3\n",
    "c = a**b #Exponent\n",
    "print (\"a^b = \", c)\n",
    "a = 10\n",
    "b = 5\n",
    "c = a//b #Floor Division\n",
    "print (\"Result = \", c)"
   ]
  },
  {
   "cell_type": "code",
   "execution_count": 15,
   "id": "f8000d89",
   "metadata": {},
   "outputs": [
    {
     "name": "stdout",
     "output_type": "stream",
     "text": [
      "a is not equal to b\n",
      "a is not equal to b\n",
      "a is not less than b\n",
      "a is greater than b\n"
     ]
    }
   ],
   "source": [
    "#Comparison Operators\n",
    "a = 21; b = 10\n",
    "if ( a == b ):\n",
    "    print (\"a is equal to b\")\n",
    "else:\n",
    "    print (\"a is not equal to b\")\n",
    "if ( a != b ):\n",
    "    print (\"a is not equal to b\")\n",
    "else:\n",
    "    print (\"a is equal to b\")\n",
    "if ( a < b ):\n",
    "    print (\"a is less than b\" )\n",
    "else:\n",
    "    print (\"a is not less than b\")\n",
    "if ( a > b ):\n",
    "    print (\"a is greater than b\")\n",
    "else:\n",
    "    print (\"a is not greater than b\")"
   ]
  },
  {
   "cell_type": "code",
   "execution_count": 16,
   "id": "1e561c9a",
   "metadata": {},
   "outputs": [
    {
     "name": "stdout",
     "output_type": "stream",
     "text": [
      "10\n",
      "21\n",
      "a is either less than or equal to b\n",
      "Line 6 - b is either greater than or equal to b\n"
     ]
    }
   ],
   "source": [
    "a = 21; b = 10\n",
    "a,b=b,a #values of a and b swapped. a becomes 10, b becomes 21\n",
    "print(a)\n",
    "print(b)\n",
    "if ( a <= b ):\n",
    "    print (\"a is either less than or equal to b\")\n",
    "else:\n",
    "    print (\"a is neither less than nor equal to b\")\n",
    "if ( b >= a ):\n",
    "    print (\"Line 6 - b is either greater than or equal to b\")\n",
    "else:\n",
    "    print (\"Line 6 - b is neither greater than nor equal to b\")"
   ]
  },
  {
   "cell_type": "code",
   "execution_count": 18,
   "id": "a2417e65",
   "metadata": {},
   "outputs": [
    {
     "name": "stdout",
     "output_type": "stream",
     "text": [
      "True\n"
     ]
    }
   ],
   "source": [
    "x=4\n",
    "print(3<x<6)"
   ]
  },
  {
   "cell_type": "code",
   "execution_count": 20,
   "id": "ade13b26",
   "metadata": {},
   "outputs": [
    {
     "name": "stdout",
     "output_type": "stream",
     "text": [
      "Value of c is  31\n",
      "Value of c is  52\n",
      "Value of c is  1092\n"
     ]
    }
   ],
   "source": [
    "#Assignment Operator\n",
    "a = 21\n",
    "b = 10\n",
    "c = 0\n",
    "c = a + b\n",
    "print (\"Value of c is \", c)\n",
    "c += a #c=c+a\n",
    "print (\"Value of c is \", c )\n",
    "c *= a #c=c*a\n",
    "print (\"Value of c is \", c )"
   ]
  },
  {
   "cell_type": "code",
   "execution_count": 21,
   "id": "2741cb46",
   "metadata": {},
   "outputs": [
    {
     "name": "stdout",
     "output_type": "stream",
     "text": [
      "a= 60 : 0b111100 b= 13 : 0b1101\n",
      "result of AND is  12 : 0b1100\n",
      "result of OR is  61 : 0b111101\n",
      "result of EXOR is  49 : 0b110001\n",
      "result of COMPLEMENT is  -61 : -0b111101\n",
      "result of LEFT SHIFT is  240 : 0b11110000\n",
      "result of RIGHT SHIFT is  15 : 0b1111\n"
     ]
    }
   ],
   "source": [
    "#Bitwise Operator\n",
    "a = 60 # 60 = 0011 1100\n",
    "b = 13 # 13 = 0000 1101\n",
    "print ('a=',a,':',bin(a),'b=',b,':',bin(b))\n",
    "c = a & b; # 12 = 0000 1100\n",
    "print (\"result of AND is \", c,':',bin(c))\n",
    "c = a | b; # 61 = 0011 1101\n",
    "print (\"result of OR is \", c,':',bin(c))\n",
    "c = a ^ b; # 49 = 0011 0001\n",
    "print (\"result of EXOR is \", c,':',bin(c))\n",
    "c = ~a; # -61 = 1100 0011\n",
    "print (\"result of COMPLEMENT is \", c,':',bin(c))\n",
    "c = a << 2; # 240 = 1111 0000\n",
    "print (\"result of LEFT SHIFT is \", c,':',bin(c))\n",
    "c = a >> 2; # 15 = 0000 1111\n",
    "print (\"result of RIGHT SHIFT is \", c,':',bin(c))"
   ]
  },
  {
   "cell_type": "code",
   "execution_count": 22,
   "id": "e99bcd6b",
   "metadata": {},
   "outputs": [
    {
     "name": "stdout",
     "output_type": "stream",
     "text": [
      "True\n",
      "True\n",
      "True\n"
     ]
    }
   ],
   "source": [
    "# Logical Operators\n",
    "x=5\n",
    "y=2\n",
    "print((x>4) and (y<3))\n",
    "print((x>5) or (y<3))\n",
    "print(not(x>5) and (y<3))"
   ]
  },
  {
   "cell_type": "code",
   "execution_count": 23,
   "id": "56725a1e",
   "metadata": {},
   "outputs": [
    {
     "name": "stdout",
     "output_type": "stream",
     "text": [
      "a is not available in the given list\n",
      "b is not available in the given list\n",
      "c is available in the given list\n"
     ]
    }
   ],
   "source": [
    "#Membership Operators\n",
    "a = 10\n",
    "b = 20\n",
    "list = [1, 2, 3, 4, 5 ]\n",
    "if ( a in list ):\n",
    "    print (\"a is available in the given list\")\n",
    "else:\n",
    "    print (\"a is not available in the given list\")\n",
    "    \n",
    "if ( b not in list ):\n",
    "    print (\"b is not available in the given list\")\n",
    "else:\n",
    "    print (\"b is available in the given list\")\n",
    "    \n",
    "c=b/a\n",
    "if ( c in list ):\n",
    "    print (\"c is available in the given list\")\n",
    "else:\n",
    "    print (\"c is not available in the given list\")"
   ]
  },
  {
   "cell_type": "code",
   "execution_count": 24,
   "id": "b226f965",
   "metadata": {},
   "outputs": [
    {
     "name": "stdout",
     "output_type": "stream",
     "text": [
      "a= 20 : 140706227983752 b= 20 : 140706227983752\n",
      "a and b have same identity\n",
      "a and b have same identity\n",
      "a= 20 : 140706227983752 b= 30 : 140706227984072\n",
      "a and b do not have same identity\n"
     ]
    }
   ],
   "source": [
    "#Identity Opeartors\n",
    "a = 20\n",
    "b = 20\n",
    "print ('a=',a,':',id(a), 'b=',b,':',id(b))\n",
    "if ( a is b ):\n",
    "    print (\"a and b have same identity\")\n",
    "else:\n",
    "    print (\"a and b do not have same identity\")\n",
    "\n",
    "if ( id(a) == id(b) ):\n",
    "    print (\"a and b have same identity\")\n",
    "else:\n",
    "    print (\"a and b do not have same identity\")\n",
    "\n",
    "b = 30\n",
    "print ('a=',a,':',id(a), 'b=',b,':',id(b))\n",
    "if ( a is not b ):\n",
    "    print (\"a and b do not have same identity\")\n",
    "else:\n",
    "    print (\"a and b have same identity\")"
   ]
  },
  {
   "cell_type": "code",
   "execution_count": 25,
   "id": "7b3c4983",
   "metadata": {},
   "outputs": [
    {
     "name": "stdout",
     "output_type": "stream",
     "text": [
      "a:20 b:10 c:15 d:5\n",
      "Value of (a + b) * c / d is  90.0\n",
      "Value of ((a + b) * c) / d is  90.0\n",
      "Value of (a + b) * (c / d) is  90.0\n",
      "Value of a + (b * c) / d is  50.0\n"
     ]
    }
   ],
   "source": [
    "a = 20\n",
    "b = 10\n",
    "c = 15\n",
    "d = 5\n",
    "print (\"a:%d b:%d c:%d d:%d\" % (a,b,c,d ))\n",
    "e = (a + b) * c / d #( 30 * 15 ) / 5\n",
    "print (\"Value of (a + b) * c / d is \", e)\n",
    "\n",
    "e = ((a + b) * c) / d # (30 * 15 ) / 5\n",
    "print (\"Value of ((a + b) * c) / d is \", e)\n",
    "\n",
    "e = (a + b) * (c / d) # (30) * (15/5)\n",
    "print (\"Value of (a + b) * (c / d) is \", e)\n",
    "\n",
    "e = a + (b * c) / d # 20 + (150/5)\n",
    "print (\"Value of a + (b * c) / d is \", e)"
   ]
  },
  {
   "cell_type": "code",
   "execution_count": 27,
   "id": "0ebf04bb",
   "metadata": {},
   "outputs": [
    {
     "name": "stdout",
     "output_type": "stream",
     "text": [
      "1 - Got a true expression value\n",
      "100\n"
     ]
    }
   ],
   "source": [
    "#Decision Making\n",
    "#if statement\n",
    "var1 = 100\n",
    "if var1:\n",
    "    print (\"1 - Got a true expression value\")\n",
    "    print (var1)\n",
    "var2 = 0\n",
    "if var2:\n",
    "    print (\"2 - Got a true expression value\")\n",
    "    print (var2)"
   ]
  },
  {
   "cell_type": "code",
   "execution_count": 28,
   "id": "430d766b",
   "metadata": {},
   "outputs": [
    {
     "name": "stdout",
     "output_type": "stream",
     "text": [
      "Enter your input: 5\n",
      "Received input is :  5\n"
     ]
    }
   ],
   "source": [
    "#reading input\n",
    "str = input(\"Enter your input: \");\n",
    "print(\"Received input is : \", str)"
   ]
  },
  {
   "cell_type": "code",
   "execution_count": 29,
   "id": "f8b0868a",
   "metadata": {},
   "outputs": [
    {
     "name": "stdout",
     "output_type": "stream",
     "text": [
      "Enter amount: 5\n",
      "Discount 0.25\n",
      "Net payable: 4.75\n"
     ]
    }
   ],
   "source": [
    "#if else statement\n",
    "amount=int(input(\"Enter amount: \"))\n",
    "if amount<1000:\n",
    "    discount=amount*0.05\n",
    "    print (\"Discount\",discount)\n",
    "else:\n",
    "    discount=amount*0.10\n",
    "    print (\"Discount\",discount)\n",
    "print (\"Net payable:\",amount-discount)"
   ]
  },
  {
   "cell_type": "code",
   "execution_count": 30,
   "id": "4d3bc470",
   "metadata": {},
   "outputs": [
    {
     "name": "stdout",
     "output_type": "stream",
     "text": [
      "Enter amount: 600\n",
      "Discount 30.0\n",
      "Net payable: 570.0\n"
     ]
    }
   ],
   "source": [
    "#elif statement\n",
    "amount=int(input(\"Enter amount: \"))\n",
    "if amount<1000:\n",
    "    discount=amount*0.05\n",
    "    print (\"Discount\",discount)\n",
    "elif amount<5000:\n",
    "    discount=amount*0.10\n",
    "    print (\"Discount\",discount)\n",
    "else:\n",
    "    discount=amount*0.15\n",
    "    print (\"Discount\",discount)\n",
    "print (\"Net payable:\",amount-discount) "
   ]
  },
  {
   "cell_type": "code",
   "execution_count": 31,
   "id": "3f072561",
   "metadata": {},
   "outputs": [
    {
     "name": "stdout",
     "output_type": "stream",
     "text": [
      "The count is: 0\n",
      "The count is: 1\n",
      "The count is: 2\n",
      "The count is: 3\n",
      "The count is: 4\n",
      "The count is: 5\n",
      "The count is: 6\n",
      "The count is: 7\n",
      "The count is: 8\n"
     ]
    }
   ],
   "source": [
    "#looping Constructs\n",
    "#While Loop\n",
    "count = 0\n",
    "while (count < 9):\n",
    "    print ('The count is:', count)\n",
    "    count = count + 1"
   ]
  },
  {
   "cell_type": "code",
   "execution_count": 32,
   "id": "3531bc7e",
   "metadata": {},
   "outputs": [
    {
     "name": "stdout",
     "output_type": "stream",
     "text": [
      "0  is less than 5\n",
      "1  is less than 5\n",
      "2  is less than 5\n",
      "3  is less than 5\n",
      "4  is less than 5\n",
      "5  is not less than 5\n"
     ]
    }
   ],
   "source": [
    "#If the else statement is used with a while loop, the else statement is executed when the condition becomes false.\n",
    "count = 0\n",
    "while count < 5:\n",
    "    print (count, \" is less than 5\")\n",
    "    count = count + 1\n",
    "else:\n",
    "    print (count, \" is not less than 5\")"
   ]
  },
  {
   "cell_type": "code",
   "execution_count": 42,
   "id": "c2529aed",
   "metadata": {},
   "outputs": [
    {
     "ename": "NameError",
     "evalue": "name 'list' is not defined",
     "output_type": "error",
     "traceback": [
      "\u001b[1;31m---------------------------------------------------------------------------\u001b[0m",
      "\u001b[1;31mNameError\u001b[0m                                 Traceback (most recent call last)",
      "Cell \u001b[1;32mIn[42], line 1\u001b[0m\n\u001b[1;32m----> 1\u001b[0m \u001b[38;5;28;01mdel\u001b[39;00m \u001b[38;5;28mlist\u001b[39m\n",
      "\u001b[1;31mNameError\u001b[0m: name 'list' is not defined"
     ]
    }
   ],
   "source": [
    "del list"
   ]
  },
  {
   "cell_type": "code",
   "execution_count": 40,
   "id": "440b26a8",
   "metadata": {},
   "outputs": [
    {
     "name": "stdout",
     "output_type": "stream",
     "text": [
      "range(0, 5)\n",
      "[0, 1, 2, 3, 4]\n"
     ]
    }
   ],
   "source": [
    "#range() function\n",
    "#range(n) generates an iterator to progress integers starting with 0 upto n-1.\n",
    "print(range(0, 5))\n",
    "#To obtain a list object of the sequence, it is type casted to list().\n",
    "#Now this list can be iterated using the for statement.\n",
    "print(list(range(5)))"
   ]
  },
  {
   "cell_type": "code",
   "execution_count": 41,
   "id": "11c0be78",
   "metadata": {},
   "outputs": [
    {
     "name": "stdout",
     "output_type": "stream",
     "text": [
      "0\n",
      "1\n",
      "2\n",
      "3\n",
      "4\n"
     ]
    }
   ],
   "source": [
    "#for loop\n",
    "for var in list(range(5)):\n",
    "    print (var)"
   ]
  },
  {
   "cell_type": "code",
   "execution_count": 43,
   "id": "7f39750b",
   "metadata": {},
   "outputs": [
    {
     "name": "stdout",
     "output_type": "stream",
     "text": [
      "Current Letter : P\n",
      "Current Letter : y\n",
      "Current Letter : t\n",
      "Current Letter : h\n",
      "Current Letter : o\n",
      "Current Letter : n\n",
      "\n",
      "Current fruit : banana\n",
      "Current fruit : apple\n",
      "Current fruit : mango\n"
     ]
    }
   ],
   "source": [
    "for letter in 'Python': # traversal of a string sequence\n",
    "    print ('Current Letter :', letter)\n",
    "print()#prints newline character\n",
    "fruits = ['banana', 'apple', 'mango']\n",
    "for fruit in fruits: # traversal of List sequence\n",
    "    print ('Current fruit :', fruit)"
   ]
  },
  {
   "cell_type": "code",
   "execution_count": 45,
   "id": "4203b359",
   "metadata": {},
   "outputs": [
    {
     "name": "stdout",
     "output_type": "stream",
     "text": [
      "Current fruit : banana\n",
      "Current fruit : apple\n",
      "Current fruit : mango\n"
     ]
    }
   ],
   "source": [
    "fruits = ['banana', 'apple', 'mango']\n",
    "for index in range(len(fruits)):\n",
    "    print ('Current fruit :', fruits[index])"
   ]
  },
  {
   "cell_type": "code",
   "execution_count": 46,
   "id": "dc1393cd",
   "metadata": {},
   "outputs": [
    {
     "name": "stdout",
     "output_type": "stream",
     "text": [
      "the list does not contain even number\n"
     ]
    }
   ],
   "source": [
    "#If the else statement is used within a for loop, the else block is executed only if for loops terminates normally (and not by encountering break statement).\n",
    "#If the else statement is used with a while loop, the else statement is executed when the condition becomes false. Again, the loop must terminate normally.\n",
    "numbers=[11,33,55,39,55,75,37,21,23,41,13]\n",
    "for num in numbers:\n",
    "    if num%2==0:\n",
    "        print ('the list contains an even number')\n",
    "        break\n",
    "else:\n",
    "    print ('the list does not contain even number')"
   ]
  },
  {
   "cell_type": "code",
   "execution_count": 47,
   "id": "801c11e6",
   "metadata": {},
   "outputs": [
    {
     "name": "stdout",
     "output_type": "stream",
     "text": [
      "Current Letter : P\n",
      "Current Letter : y\n",
      "Current Letter : t\n",
      "Current variable value : 10\n",
      "Current variable value : 9\n",
      "Current variable value : 8\n",
      "Current variable value : 7\n",
      "Current variable value : 6\n"
     ]
    }
   ],
   "source": [
    "#Loop Control Statements\n",
    "# break: Terminates the loop statement and transfers execution to the statement immediately folloing the loop.\n",
    "# continue :  Causes the loop to skip the remainder of its body and immediately retest its condition prior to reiterating. \n",
    "for letter in 'Python': # First Example\n",
    "    if letter == 'h':\n",
    "        break\n",
    "    print ('Current Letter :', letter)\n",
    "\n",
    "var = 10 # Second Example\n",
    "while var > 0:\n",
    "    print ('Current variable value :', var)\n",
    "    var = var -1\n",
    "    if var == 5:\n",
    "        break"
   ]
  },
  {
   "cell_type": "code",
   "execution_count": 48,
   "id": "210903be",
   "metadata": {},
   "outputs": [
    {
     "name": "stdout",
     "output_type": "stream",
     "text": [
      "Max value element :  Python\n",
      "Max value element :  700\n"
     ]
    }
   ],
   "source": [
    "#list max() method\n",
    "#max() method returns the elements from the list with maximum value.\n",
    "list1, list2 = ['C++','Java', 'Python'], [456, 700, 200]\n",
    "print (\"Max value element : \", max(list1))\n",
    "\n",
    "print (\"Max value element : \", max(list2))"
   ]
  },
  {
   "cell_type": "code",
   "execution_count": 50,
   "id": "b14f18d9",
   "metadata": {},
   "outputs": [
    {
     "name": "stdout",
     "output_type": "stream",
     "text": [
      "min value element :  C++\n",
      "min value element :  200\n"
     ]
    }
   ],
   "source": [
    "#list min() method\n",
    "#min() returns the elements from the list with minimum value.\n",
    "list1, list2 = ['C++','Java', 'Python'], [456, 700, 200]\n",
    "print (\"min value element : \", min(list1))\n",
    "\n",
    "print (\"min value element : \", min(list2))"
   ]
  },
  {
   "cell_type": "code",
   "execution_count": 51,
   "id": "b084d7d8",
   "metadata": {},
   "outputs": [
    {
     "name": "stdout",
     "output_type": "stream",
     "text": [
      "List elements :  [123, 'C++', 'Java', 'Python']\n",
      "List elements :  ['H', 'e', 'l', 'l', 'o', ' ', 'W', 'o', 'r', 'l', 'd']\n"
     ]
    }
   ],
   "source": [
    "#List list() method\n",
    "#list() method takes sequence types and converts them to lists. This is used to convert a given tuple into list.\n",
    "aTuple = (123, 'C++', 'Java', 'Python')\n",
    "list1 = list(aTuple)\n",
    "print (\"List elements : \", list1)\n",
    "\n",
    "str=\"Hello World\"\n",
    "list2=list(str)#converts string to a list\n",
    "print (\"List elements : \", list2)"
   ]
  },
  {
   "cell_type": "code",
   "execution_count": 52,
   "id": "ddac8108",
   "metadata": {},
   "outputs": [
    {
     "name": "stdout",
     "output_type": "stream",
     "text": [
      "updated list :  ['C++', 'Java', 'Python', 'C#']\n"
     ]
    }
   ],
   "source": [
    "#List append() Method\n",
    "#append() method appends a passed obj into the existing list.\n",
    "list1 = ['C++', 'Java', 'Python']\n",
    "list1.append('C#')\n",
    "print (\"updated list : \", list1)"
   ]
  },
  {
   "cell_type": "code",
   "execution_count": 53,
   "id": "f70b1c09",
   "metadata": {},
   "outputs": [
    {
     "name": "stdout",
     "output_type": "stream",
     "text": [
      "Count for 123 :  2\n",
      "Count for zara :  1\n"
     ]
    }
   ],
   "source": [
    "#List count() Method\n",
    "#count() method returns count of how many times obj occurs in list.\n",
    "aList = [123, 'xyz', 'zara', 'abc', 123];\n",
    "print (\"Count for 123 : \", aList.count(123))\n",
    "\n",
    "print (\"Count for zara : \", aList.count('zara'))"
   ]
  },
  {
   "cell_type": "code",
   "execution_count": 54,
   "id": "448e83ac",
   "metadata": {},
   "outputs": [
    {
     "name": "stdout",
     "output_type": "stream",
     "text": [
      "Extended List : ['physics', 'chemistry', 'maths', 0, 1, 2, 3, 4]\n"
     ]
    }
   ],
   "source": [
    "#List extend() Method\n",
    "#extend() method appends the contents of seq to list.\n",
    "list1 = ['physics', 'chemistry', 'maths']\n",
    "list2=list(range(5)) #creates list of numbers between 0-4\n",
    "list1.extend( list2)\n",
    "print ('Extended List :',list1)"
   ]
  },
  {
   "cell_type": "code",
   "execution_count": 58,
   "id": "1662b8e5",
   "metadata": {},
   "outputs": [
    {
     "name": "stdout",
     "output_type": "stream",
     "text": [
      "Index of chemistry 1\n"
     ]
    }
   ],
   "source": [
    "#List index() Method\n",
    "# index() method returns the lowest index in list that obj appears.\n",
    "list1 = ['physics', 'chemistry', 'maths']\n",
    "print ('Index of chemistry', list1.index('chemistry'))"
   ]
  },
  {
   "cell_type": "code",
   "execution_count": 60,
   "id": "01f99ab4",
   "metadata": {},
   "outputs": [
    {
     "name": "stdout",
     "output_type": "stream",
     "text": [
      "Final list :  ['physics', 'Biology', 'chemistry', 'maths']\n"
     ]
    }
   ],
   "source": [
    "#List insert() Method\n",
    "#insert() method inserts object obj into list at offset index.\n",
    "list1 = ['physics', 'chemistry', 'maths']\n",
    "list1.insert(1, 'Biology')\n",
    "print ('Final list : ', list1)"
   ]
  },
  {
   "cell_type": "code",
   "execution_count": 61,
   "id": "fd47056f",
   "metadata": {},
   "outputs": [
    {
     "name": "stdout",
     "output_type": "stream",
     "text": [
      "list now :  ['physics', 'Biology', 'chemistry']\n",
      "list now :  ['physics', 'chemistry']\n"
     ]
    }
   ],
   "source": [
    "#List pop() Method\n",
    "#pop() method removes and returns last object or obj from the list.\n",
    "list1 = ['physics', 'Biology', 'chemistry', 'maths']\n",
    "list1.pop()\n",
    "print (\"list now : \", list1)\n",
    "\n",
    "list1.pop(1)\n",
    "print (\"list now : \", list1)"
   ]
  },
  {
   "cell_type": "code",
   "execution_count": 64,
   "id": "43ced581",
   "metadata": {},
   "outputs": [
    {
     "name": "stdout",
     "output_type": "stream",
     "text": [
      "list now :  ['physics', 'chemistry', 'maths']\n",
      "list now :  ['physics', 'chemistry']\n"
     ]
    }
   ],
   "source": [
    "#List remove() Method\n",
    "#remove() removes given obj from the list\n",
    "list1 = ['physics', 'Biology', 'chemistry', 'maths']\n",
    "list1.remove('Biology')\n",
    "print (\"list now : \", list1)\n",
    "list1.remove('maths')\n",
    "print (\"list now : \", list1)"
   ]
  },
  {
   "cell_type": "code",
   "execution_count": 65,
   "id": "88384dce",
   "metadata": {},
   "outputs": [
    {
     "name": "stdout",
     "output_type": "stream",
     "text": [
      "list now :  ['maths', 'chemistry', 'Biology', 'physics']\n"
     ]
    }
   ],
   "source": [
    "#List reverse() Method\n",
    "#reverse() method reverses objects of list in place.\n",
    "list1 = ['physics', 'Biology', 'chemistry', 'maths']\n",
    "list1.reverse()\n",
    "print (\"list now : \", list1)"
   ]
  },
  {
   "cell_type": "code",
   "execution_count": 67,
   "id": "c2ef4712",
   "metadata": {},
   "outputs": [
    {
     "name": "stdout",
     "output_type": "stream",
     "text": [
      "list now :  ['Biology', 'chemistry', 'maths', 'physics']\n"
     ]
    }
   ],
   "source": [
    "#List sort() Method\n",
    "# sort() method sorts objects of list, use compare function if given.\n",
    "list1 = ['physics', 'Biology', 'chemistry', 'maths']\n",
    "list1.sort()\n",
    "print (\"list now : \", list1)"
   ]
  },
  {
   "cell_type": "code",
   "execution_count": 70,
   "id": "d1901503",
   "metadata": {},
   "outputs": [
    {
     "name": "stdout",
     "output_type": "stream",
     "text": [
      "random() :  0.5691574062084332\n",
      "random() :  0.07380436183516481\n"
     ]
    }
   ],
   "source": [
    "#random library\n",
    "#This module implements pseudo-random number generators for various distributions.\n",
    "# random()\n",
    "# random() method returns a random floating point number in the range [0.0, 1.0].\n",
    "import random # importing the random library\n",
    "# First random number\n",
    "print (\"random() : \", random.random())\n",
    "\n",
    "# Second random number\n",
    "print (\"random() : \", random.random())"
   ]
  },
  {
   "cell_type": "code",
   "execution_count": null,
   "id": "74336ba5",
   "metadata": {},
   "outputs": [],
   "source": []
  }
 ],
 "metadata": {
  "kernelspec": {
   "display_name": "Python 3 (ipykernel)",
   "language": "python",
   "name": "python3"
  },
  "language_info": {
   "codemirror_mode": {
    "name": "ipython",
    "version": 3
   },
   "file_extension": ".py",
   "mimetype": "text/x-python",
   "name": "python",
   "nbconvert_exporter": "python",
   "pygments_lexer": "ipython3",
   "version": "3.11.4"
  }
 },
 "nbformat": 4,
 "nbformat_minor": 5
}
